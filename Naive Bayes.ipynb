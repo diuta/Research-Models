{
 "cells": [
  {
   "cell_type": "code",
   "execution_count": 16,
   "id": "e0cfd7a9",
   "metadata": {},
   "outputs": [],
   "source": [
    "import pandas as pd\n",
    "import string\n",
    "import joblib\n",
    "import matplotlib.pyplot as plt\n",
    "from collections import Counter\n",
    "\n",
    "from nltk.corpus import stopwords\n",
    "from nltk.tokenize import word_tokenize\n",
    "from sklearn.feature_extraction.text import TfidfVectorizer\n",
    "from sklearn.model_selection import train_test_split\n",
    "from sklearn.naive_bayes import MultinomialNB\n",
    "from sklearn.pipeline import make_pipeline\n",
    "from sklearn.metrics import accuracy_score, confusion_matrix, classification_report"
   ]
  },
  {
   "cell_type": "markdown",
   "id": "9897a635",
   "metadata": {},
   "source": [
    "Kita ada 2 dataset.\n",
    "1. dataset Terraria -> dataset yang kita jadiin target. buat ngecek ini game worthy buat sequel atau ngganya dari sini\n",
    "2. dataset reviewmodel -> dataset buat ngebuat modelnya.\n",
    "\n",
    "cara kerja :\n",
    "1. buat model\n",
    "2. baca dataset terraria\n",
    "3. suruh modelnya buat conclusion terhadap data di terraria (bisa plotting, bisa data berbasis text dll)"
   ]
  },
  {
   "cell_type": "markdown",
   "id": "7f1cde81",
   "metadata": {},
   "source": [
    "# MODEL TRAINING"
   ]
  },
  {
   "cell_type": "markdown",
   "id": "4e07296a",
   "metadata": {},
   "source": [
    "di bagian (df_model = pd.read_csv('dataset/reviewmodel.csv')), \n",
    "\n",
    "ini kalo kalian contohnya taro di folder lain bisa ganti jadi df_model = pd.read_csv('nama-folder/reviewmodel.csv') \n",
    "\n",
    "atau bisa langsung (df_model = pd.read_csv('reviewmodel.csv')) kalo ga ditaro di folder mana mana"
   ]
  },
  {
   "cell_type": "code",
   "execution_count": 17,
   "id": "e38a0354",
   "metadata": {},
   "outputs": [
    {
     "name": "stdout",
     "output_type": "stream",
     "text": [
      "<class 'pandas.core.frame.DataFrame'>\n",
      "Index: 80000 entries, 898501 to 1448211\n",
      "Data columns (total 2 columns):\n",
      " #   Column      Non-Null Count  Dtype \n",
      "---  ------      --------------  ----- \n",
      " 0   reviewText  79947 non-null  object\n",
      " 1   overall     80000 non-null  int64 \n",
      "dtypes: int64(1), object(1)\n",
      "memory usage: 1.8+ MB\n"
     ]
    }
   ],
   "source": [
    "# Load dataset buat model\n",
    "df = pd.read_csv('dataset/reviewmodel.csv')\n",
    "df_model = df.sample(n=80000, random_state=42)\n",
    "df_model.info()"
   ]
  },
  {
   "cell_type": "code",
   "execution_count": 18,
   "id": "679e2aae",
   "metadata": {},
   "outputs": [],
   "source": [
    "# prep (tokenize, stopwords, punctuations)\n",
    "def remove(text):\n",
    "    english_stopwords = set(stopwords.words('english'))\n",
    "    punctuation_list = set(string.punctuation)\n",
    "    tokens = word_tokenize(text.lower())  # Tokenization and lowercasing\n",
    "    tokens = [word for word in tokens if word not in english_stopwords and word not in punctuation_list]  # Remove stopwords, punctuation, and non-alphabetic words\n",
    "    return ' '.join(tokens)\n",
    "\n",
    "def preprocess_text():\n",
    "    df_model.dropna(subset=['reviewText'], inplace=True)\n",
    "    target = df_model['reviewText'].apply(remove)\n",
    "    return target"
   ]
  },
  {
   "cell_type": "code",
   "execution_count": 19,
   "id": "a7ad9bf6",
   "metadata": {},
   "outputs": [],
   "source": [
    "def model_training():\n",
    "    target = preprocess_text()  # prep reviewText\n",
    "    label = df_model['overall'].apply(lambda x: 1 if x > 3 else 0)  # rating 1-4 ubah jadi 0 (ga rekomen) rating 5 jadi 1 (rekomen)\n",
    "\n",
    "    # split data\n",
    "    X_train, X_test, y_train, y_test = train_test_split(target, label, test_size=0.3, random_state=42)\n",
    "\n",
    "    # TFIDF + Naive Bayes\n",
    "    vectorizer = TfidfVectorizer(ngram_range=(1, 3), max_features=10000)\n",
    "    model = make_pipeline(vectorizer, MultinomialNB())\n",
    "    model.fit(X_train, y_train)\n",
    "\n",
    "    # cek akurasi\n",
    "    y_pred = model.predict(X_test)\n",
    "    accuracy = accuracy_score(y_test, y_pred)\n",
    "    confusionMatrix = confusion_matrix(y_test, y_pred)\n",
    "    classificationReport = classification_report(y_test, y_pred)\n",
    "    with open(\"NB METRICS.txt\", \"w\", encoding=\"utf-8\") as f:\n",
    "        f.write(f'Accuracy:\\n{accuracy * 100:.2f}%\\n\\n')\n",
    "        f.write(f'Confusion Matrix:\\n{confusionMatrix}\\n\\n')\n",
    "        f.write(f'Classification Report:\\n{classificationReport}\\n')\n",
    "\n",
    "    # display 5 contoh\n",
    "    for review, true_label, pred_label in zip(X_test[:5], y_test[:5], y_pred[:5]):  \n",
    "        print(f\"Review: {review}\\nTrue Sentiment: {true_label}\\tPredicted Sentiment: {pred_label}\")\n",
    "        print(\"-\" * 50)\n",
    "\n",
    "    # save model\n",
    "    with open(\"NB.pkl\", \"wb\") as f:\n",
    "        joblib.dump(model, f)\n",
    "\n",
    "    return model"
   ]
  },
  {
   "cell_type": "markdown",
   "id": "cb3f21f6",
   "metadata": {},
   "source": [
    "biar gaperlu nge load modelnya lama lama lagi kalo udah punya"
   ]
  },
  {
   "cell_type": "code",
   "execution_count": 20,
   "id": "c9fb3387",
   "metadata": {},
   "outputs": [
    {
     "name": "stdout",
     "output_type": "stream",
     "text": [
      "loading model...\n",
      "training model...\n",
      "Review: green naga couple years headset game pad razer also chroma 's figured devices change colors together looks cool also naga great functions green naga defiantly worth price\n",
      "True Sentiment: 1\tPredicted Sentiment: 1\n",
      "--------------------------------------------------\n",
      "Review: exactly needed 'm glad chosen right mouse makes gaming much better easier great condition packaging secure\n",
      "True Sentiment: 1\tPredicted Sentiment: 1\n",
      "--------------------------------------------------\n",
      "Review: really enjoyed game lot stellar mix action amazing movie tied voice acting top notch graphics pacing excellent additionally level design worked well game levels flat awesome additionally loved new ip created knight round table steampunk late 1800 's setting really nothing bad say game much like ryse game panned unfairly opinion n't think would stoked pay 60 game purchased 20 felt like got well money 's worth hope continue series designed first probably trilogy continue ip\n",
      "True Sentiment: 1\tPredicted Sentiment: 1\n",
      "--------------------------------------------------\n",
      "Review: \n",
      "True Sentiment: 1\tPredicted Sentiment: 1\n",
      "--------------------------------------------------\n",
      "Review: nice controller features like regular microsoft controller like much\n",
      "True Sentiment: 1\tPredicted Sentiment: 1\n",
      "--------------------------------------------------\n",
      "model trained\n"
     ]
    }
   ],
   "source": [
    "try:\n",
    "    # coba load model kalo udah ada biar gaperlu run data training lama lama\n",
    "    print(\"loading model...\")\n",
    "    with open(\"NB.pkl\", \"rb\") as f:\n",
    "        classifier = joblib.load(f)\n",
    "    print(\"model loaded\")\n",
    "except:\n",
    "    # kalo belom ada modelnya, training model dulu\n",
    "    print(\"training model...\")\n",
    "    classifier = model_training()\n",
    "    print(\"model trained\")"
   ]
  }
 ],
 "metadata": {
  "kernelspec": {
   "display_name": "machine_learning_3.10",
   "language": "python",
   "name": "python3"
  },
  "language_info": {
   "codemirror_mode": {
    "name": "ipython",
    "version": 3
   },
   "file_extension": ".py",
   "mimetype": "text/x-python",
   "name": "python",
   "nbconvert_exporter": "python",
   "pygments_lexer": "ipython3",
   "version": "3.10.9"
  }
 },
 "nbformat": 4,
 "nbformat_minor": 5
}
