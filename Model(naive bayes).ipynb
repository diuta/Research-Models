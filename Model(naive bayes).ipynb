{
 "cells": [
  {
   "cell_type": "code",
   "execution_count": 1,
   "id": "e0cfd7a9",
   "metadata": {},
   "outputs": [],
   "source": [
    "import pandas as pd\n",
    "import string\n",
    "import joblib\n",
    "import matplotlib.pyplot as plt\n",
    "from collections import Counter\n",
    "\n",
    "from nltk.corpus import stopwords\n",
    "from nltk.tokenize import word_tokenize\n",
    "from sklearn.feature_extraction.text import TfidfVectorizer\n",
    "from sklearn.model_selection import train_test_split\n",
    "from sklearn.naive_bayes import MultinomialNB\n",
    "from sklearn.pipeline import make_pipeline\n",
    "from sklearn.metrics import accuracy_score, confusion_matrix, classification_report"
   ]
  },
  {
   "cell_type": "markdown",
   "id": "9897a635",
   "metadata": {},
   "source": [
    "Kita ada 2 dataset.\n",
    "1. dataset Terraria -> dataset yang kita jadiin target. buat ngecek ini game worthy buat sequel atau ngganya dari sini\n",
    "2. dataset reviewmodel -> dataset buat ngebuat modelnya.\n",
    "\n",
    "cara kerja :\n",
    "1. buat model\n",
    "2. baca dataset terraria\n",
    "3. suruh modelnya buat conclusion terhadap data di terraria (bisa plotting, bisa data berbasis text dll)"
   ]
  },
  {
   "cell_type": "markdown",
   "id": "7f1cde81",
   "metadata": {},
   "source": [
    "# MODEL TRAINING"
   ]
  },
  {
   "cell_type": "markdown",
   "id": "4e07296a",
   "metadata": {},
   "source": [
    "di bagian (df_model = pd.read_csv('dataset/reviewmodel.csv')), \n",
    "\n",
    "ini kalo kalian contohnya taro di folder lain bisa ganti jadi df_model = pd.read_csv('nama-folder/reviewmodel.csv') \n",
    "\n",
    "atau bisa langsung (df_model = pd.read_csv('reviewmodel.csv')) kalo ga ditaro di folder mana mana"
   ]
  },
  {
   "cell_type": "code",
   "execution_count": 2,
   "id": "e38a0354",
   "metadata": {},
   "outputs": [
    {
     "name": "stdout",
     "output_type": "stream",
     "text": [
      "<class 'pandas.core.frame.DataFrame'>\n",
      "RangeIndex: 2565349 entries, 0 to 2565348\n",
      "Data columns (total 2 columns):\n",
      " #   Column      Dtype \n",
      "---  ------      ----- \n",
      " 0   reviewText  object\n",
      " 1   overall     int64 \n",
      "dtypes: int64(1), object(1)\n",
      "memory usage: 39.1+ MB\n"
     ]
    }
   ],
   "source": [
    "# Load dataset buat model\n",
    "df_model = pd.read_csv('dataset/reviewmodel.csv', low_memory=False)\n",
    "df_model.info()"
   ]
  },
  {
   "cell_type": "code",
   "execution_count": null,
   "id": "679e2aae",
   "metadata": {},
   "outputs": [],
   "source": [
    "# prep (tokenize, stopwords, punctuations)\n",
    "def remove(text):\n",
    "    english_stopwords = set(stopwords.words('english'))\n",
    "    punctuation_list = set(string.punctuation)\n",
    "    tokens = word_tokenize(text.lower())  # Tokenization and lowercasing\n",
    "    tokens = [word for word in tokens if word not in english_stopwords and word not in punctuation_list]  # Remove stopwords, punctuation, and non-alphabetic words\n",
    "    return ' '.join(tokens)\n",
    "\n",
    "def preprocess_text():\n",
    "    df_model.dropna(subset=['reviewText'], inplace=True)\n",
    "    target = df_model['reviewText'].apply(remove)\n",
    "    return target"
   ]
  },
  {
   "cell_type": "code",
   "execution_count": null,
   "id": "a7ad9bf6",
   "metadata": {},
   "outputs": [],
   "source": [
    "def model_training():\n",
    "    target = preprocess_text()  # prep reviewText\n",
    "    label = df_model['overall'].apply(lambda x: 1 if x > 3 else 0)  # rating 1-4 ubah jadi 0 (ga rekomen) rating 5 jadi 1 (rekomen)\n",
    "\n",
    "    # split data\n",
    "    X_train, X_test, y_train, y_test = train_test_split(target, label, test_size=0.3, random_state=42)\n",
    "\n",
    "    # TFIDF + Naive Bayes\n",
    "    vectorizer = TfidfVectorizer(ngram_range=(1, 3), max_features=10000)\n",
    "    model = make_pipeline(vectorizer, MultinomialNB())\n",
    "    model.fit(X_train, y_train)\n",
    "\n",
    "    # cek akurasi\n",
    "    y_pred = model.predict(X_test)\n",
    "    accuracy = accuracy_score(y_test, y_pred)\n",
    "    confusionMatrix = confusion_matrix(y_test, y_pred)\n",
    "    classificationReport = classification_report(y_test, y_pred)\n",
    "    with open(\"Main NB Metrics.txt\", \"w\", encoding=\"utf-8\") as f:\n",
    "        f.write(f'Accuracy:\\n{accuracy * 100:.2f}%\\n\\n')\n",
    "        f.write(f'Confusion Matrix:\\n{confusionMatrix}\\n\\n')\n",
    "        f.write(f'Classification Report:\\n{classificationReport}\\n')\n",
    "\n",
    "    # display 5 contoh\n",
    "    for review, true_label, pred_label in zip(X_test[:5], y_test[:5], y_pred[:5]):  \n",
    "        print(f\"Review: {review}\\nTrue Sentiment: {true_label}\\tPredicted Sentiment: {pred_label}\")\n",
    "        print(\"-\" * 50)\n",
    "\n",
    "    # save model\n",
    "    with open(\"Main NB Model.pkl\", \"wb\") as f:\n",
    "        joblib.dump(model, f)\n",
    "\n",
    "    return model"
   ]
  },
  {
   "cell_type": "markdown",
   "id": "cb3f21f6",
   "metadata": {},
   "source": [
    "biar gaperlu nge load modelnya lama lama lagi kalo udah punya"
   ]
  },
  {
   "cell_type": "code",
   "execution_count": null,
   "id": "c9fb3387",
   "metadata": {},
   "outputs": [
    {
     "name": "stdout",
     "output_type": "stream",
     "text": [
      "loading model...\n",
      "training model...\n",
      "Review: bought son loved\n",
      "True Sentiment: 1\tPredicted Sentiment: 1\n",
      "--------------------------------------------------\n",
      "Review: year old loves\n",
      "True Sentiment: 1\tPredicted Sentiment: 1\n",
      "--------------------------------------------------\n",
      "Review: well bought dropped lot held broke still love\n",
      "True Sentiment: 0\tPredicted Sentiment: 1\n",
      "--------------------------------------------------\n",
      "Review: one game every car car game fan car selection excellent even enhanced mclaren game sequel three games need speed need speed ii need speed iii hot pursuit great games may cost less money buy fan exotic cars pushing extreme levels beautiful places favorite dolphin cove put money make sure buy right\n",
      "True Sentiment: 1\tPredicted Sentiment: 1\n",
      "--------------------------------------------------\n",
      "Review: like mouse gives control dpi weight ergonomically even noticed mouse good thing\n",
      "True Sentiment: 1\tPredicted Sentiment: 1\n",
      "--------------------------------------------------\n",
      "model trained\n"
     ]
    }
   ],
   "source": [
    "try:\n",
    "    # coba load model kalo udah ada biar gaperlu run data training lama lama\n",
    "    print(\"loading model...\")\n",
    "    with open(\"Main NB Model.pkl\", \"rb\") as f:\n",
    "        classifier = joblib.load(f)\n",
    "    print(\"model loaded\")\n",
    "except:\n",
    "    # kalo belom ada modelnya, training model dulu\n",
    "    print(\"training model...\")\n",
    "    classifier = model_training()\n",
    "    print(\"model trained\")"
   ]
  },
  {
   "cell_type": "markdown",
   "id": "40f82d4f",
   "metadata": {},
   "source": [
    "# LOAD DATASET GAMENYA (TARGET)"
   ]
  },
  {
   "cell_type": "markdown",
   "id": "f3311063",
   "metadata": {},
   "source": [
    "di bagian (df_games = pd.read_csv('dataset/Terraria.csv')), \n",
    "\n",
    "ini kalo kalian contohnya taro di folder lain bisa ganti jadi df_games = pd.read_csv('nama-folder/Terraria.csv') \n",
    "\n",
    "atau bisa langsung (df_games = pd.read_csv('Terraria.csv')) kalo ga ditaro di folder mana mana"
   ]
  },
  {
   "cell_type": "code",
   "execution_count": 6,
   "id": "69fcf4b9",
   "metadata": {},
   "outputs": [
    {
     "name": "stdout",
     "output_type": "stream",
     "text": [
      "app_name\n",
      "Terraria    84828\n"
     ]
    }
   ],
   "source": [
    "# Load dataset gamenya buat jadi target\n",
    "df_games = pd.read_csv('dataset/Terraria.csv')\n",
    "print(df_games['app_name'].value_counts().to_string())"
   ]
  },
  {
   "cell_type": "code",
   "execution_count": 7,
   "id": "07e109c5",
   "metadata": {},
   "outputs": [],
   "source": [
    "# drop data yang null\n",
    "df_games.isnull().sum()\n",
    "df_games.dropna(subset=['review_text'], inplace=True)"
   ]
  },
  {
   "cell_type": "code",
   "execution_count": 8,
   "id": "60058d96",
   "metadata": {},
   "outputs": [],
   "source": [
    "# ganti nama jadi target aja sebenernya gabegitu penting\n",
    "target = df_games['review_text']"
   ]
  },
  {
   "cell_type": "markdown",
   "id": "18eed953",
   "metadata": {},
   "source": [
    "# MERGING"
   ]
  },
  {
   "cell_type": "code",
   "execution_count": 9,
   "id": "04e298db",
   "metadata": {},
   "outputs": [],
   "source": [
    "# fit dataset game ke model\n",
    "target_vectorized = classifier.named_steps['tfidfvectorizer'].transform(target)\n",
    "targetSentiment = classifier.named_steps['multinomialnb'].predict(target_vectorized)"
   ]
  },
  {
   "cell_type": "code",
   "execution_count": 10,
   "id": "d92741c3",
   "metadata": {},
   "outputs": [
    {
     "name": "stdout",
     "output_type": "stream",
     "text": [
      "62897\n",
      "21805\n"
     ]
    }
   ],
   "source": [
    "# print data sentiment 1 sama 0\n",
    "print((targetSentiment == 1).sum())\n",
    "print((targetSentiment == 0).sum())"
   ]
  },
  {
   "cell_type": "code",
   "execution_count": 11,
   "id": "fcd59bc6",
   "metadata": {},
   "outputs": [
    {
     "data": {
      "image/png": "[encoded data removed]",
      "text/plain": [
       "<Figure size 640x480 with 1 Axes>"
      ]
     },
     "metadata": {},
     "output_type": "display_data"
    }
   ],
   "source": [
    "# plotting\n",
    "counts = [(targetSentiment == 0).sum(), (targetSentiment == 1).sum()]\n",
    "labels = [\"Negative (0)\", \"Positive (1)\"]\n",
    "colors = [\"cyan\", \"lightcoral\"]\n",
    "\n",
    "plt.pie(counts, labels=labels, autopct='%.1f%%', colors=colors, startangle=90)\n",
    "plt.title(\"Target Sentiment Distribution\\n\")\n",
    "plt.axis('equal') \n",
    "plt.show()"
   ]
  },
  {
   "cell_type": "markdown",
   "id": "4807a1ef",
   "metadata": {},
   "source": [
    "### kesimpulan"
   ]
  },
  {
   "cell_type": "markdown",
   "id": "2a308073",
   "metadata": {},
   "source": [
    "sentiment 1 = positif || sentiment 2 = negatif\n",
    "\n",
    "dataset 'dataset' = dataset utama buat predict sentiment game via reviewnya\n",
    "\n",
    "di dataset videogames.csv (dataset buat training model NLP Naive Bayes), itu targetnya rating (1-5). gue set rating 1-3 itu 0 (negatif) 4-5 itu 1 (positif)"
   ]
  }
 ],
 "metadata": {
  "kernelspec": {
   "display_name": "machine_learning_3.10",
   "language": "python",
   "name": "python3"
  },
  "language_info": {
   "codemirror_mode": {
    "name": "ipython",
    "version": 3
   },
   "file_extension": ".py",
   "mimetype": "text/x-python",
   "name": "python",
   "nbconvert_exporter": "python",
   "pygments_lexer": "ipython3",
   "version": "3.10.9"
  }
 },
 "nbformat": 4,
 "nbformat_minor": 5
}
